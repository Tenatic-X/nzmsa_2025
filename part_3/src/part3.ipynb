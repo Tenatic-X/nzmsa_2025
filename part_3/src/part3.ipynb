{
 "cells": [
  {
   "cell_type": "markdown",
   "id": "2249078461bec40c",
   "metadata": {
    "collapsed": false,
    "jupyter": {
     "outputs_hidden": false
    }
   },
   "source": [
    "## Step 0. Folder Structure\n",
    "```\n",
    "3. Deep Learning Project/\n",
    "├── dataset_split/\n",
    "│   ├── train/\n",
    "│   │   ├── african_elephant (780 images)\n",
    "│   │   ├── airliner (780 images)\n",
    "│   │   └── ... (8 more folders)\n",
    "│   ├── val/\n",
    "│   │   ├── african_elephant (260 images)\n",
    "│   │   ├── airliner (260 images)\n",
    "│   │   └── ... (8 more folders)\n",
    "│   └── test (2600 images)\n",
    "├── data_preprocessed/\n",
    "│   ├── labels_train.pt\n",
    "│   ├── labels_val.pt\n",
    "│   ├── tensor_test.pt\n",
    "│   ├── tensor_train.pt\n",
    "│   └── tensor_val.pt\n",
    "├── models/\n",
    "│   ├── resnet18_checkpoint.pkl\n",
    "│   └── resnet34_checkpoint.pkl\n",
    "├── src/\n",
    "│   └── part3.ipynb\n",
    "├── src_datasplit/\n",
    "│   └── data_split.ipynb\n",
    "├── MSA.yaml\n",
    "├── README.md\n",
    "└── IEEE_Report_Template.docx\n",
    "```\n"
   ]
  },
  {
   "cell_type": "code",
   "execution_count": 58,
   "id": "84e85d54",
   "metadata": {},
   "outputs": [
    {
     "name": "stdout",
     "output_type": "stream",
     "text": [
      "^C\n"
     ]
    }
   ],
   "source": [
    "!pip install opencv-python\n"
   ]
  },
  {
   "cell_type": "code",
   "execution_count": null,
   "id": "d78c3893",
   "metadata": {},
   "outputs": [
    {
     "name": "stdout",
     "output_type": "stream",
     "text": [
      "Collecting torchvision\n",
      "  Downloading torchvision-0.22.1-cp311-cp311-win_amd64.whl.metadata (6.1 kB)\n",
      "Requirement already satisfied: numpy in x:\\anaconda3\\lib\\site-packages (from torchvision) (1.26.4)\n",
      "Requirement already satisfied: torch==2.7.1 in x:\\anaconda3\\lib\\site-packages (from torchvision) (2.7.1)\n",
      "Requirement already satisfied: pillow!=8.3.*,>=5.3.0 in x:\\anaconda3\\lib\\site-packages (from torchvision) (10.2.0)\n",
      "Requirement already satisfied: filelock in x:\\anaconda3\\lib\\site-packages (from torch==2.7.1->torchvision) (3.13.1)\n",
      "Requirement already satisfied: typing-extensions>=4.10.0 in x:\\anaconda3\\lib\\site-packages (from torch==2.7.1->torchvision) (4.14.0)\n",
      "Requirement already satisfied: sympy>=1.13.3 in x:\\anaconda3\\lib\\site-packages (from torch==2.7.1->torchvision) (1.14.0)\n",
      "Requirement already satisfied: networkx in x:\\anaconda3\\lib\\site-packages (from torch==2.7.1->torchvision) (3.1)\n",
      "Requirement already satisfied: jinja2 in x:\\anaconda3\\lib\\site-packages (from torch==2.7.1->torchvision) (3.1.3)\n",
      "Requirement already satisfied: fsspec in x:\\anaconda3\\lib\\site-packages (from torch==2.7.1->torchvision) (2023.10.0)\n",
      "Requirement already satisfied: mpmath<1.4,>=1.1.0 in x:\\anaconda3\\lib\\site-packages (from sympy>=1.13.3->torch==2.7.1->torchvision) (1.3.0)\n",
      "Requirement already satisfied: MarkupSafe>=2.0 in x:\\anaconda3\\lib\\site-packages (from jinja2->torch==2.7.1->torchvision) (2.1.3)\n",
      "Downloading torchvision-0.22.1-cp311-cp311-win_amd64.whl (1.7 MB)\n",
      "   ---------------------------------------- 0.0/1.7 MB ? eta -:--:--\n",
      "   ---------------------------------------- 0.0/1.7 MB ? eta -:--:--\n",
      "   - -------------------------------------- 0.1/1.7 MB 2.7 MB/s eta 0:00:01\n",
      "   ---------- ----------------------------- 0.5/1.7 MB 7.3 MB/s eta 0:00:01\n",
      "   ---------------------------- ----------- 1.2/1.7 MB 9.5 MB/s eta 0:00:01\n",
      "   ---------------------------------------  1.7/1.7 MB 10.8 MB/s eta 0:00:01\n",
      "   ---------------------------------------- 1.7/1.7 MB 9.9 MB/s eta 0:00:00\n",
      "Installing collected packages: torchvision\n",
      "Successfully installed torchvision-0.22.1\n"
     ]
    }
   ],
   "source": [
    "!pip install torchvision"
   ]
  },
  {
   "cell_type": "code",
   "execution_count": null,
   "id": "feff9f82a794ed57",
   "metadata": {
    "ExecuteTime": {
     "end_time": "2025-05-10T03:43:05.563885Z",
     "start_time": "2025-05-10T03:43:05.550616Z"
    },
    "collapsed": false,
    "jupyter": {
     "outputs_hidden": false
    }
   },
   "outputs": [],
   "source": [
    "# TODO: Import the libraries.\n",
    "from typing import Tuple, List\n",
    "import os\n",
    "import cv2\n",
    "from tqdm import tqdm\n",
    "import numpy as np\n",
    "import torch\n",
    "import torchvision\n",
    "import torch.nn as nn\n",
    "import torch.nn.functional as F\n",
    "from collections import OrderedDict\n",
    "import copy\n",
    "import matplotlib.pyplot as plt\n",
    "import csv"
   ]
  },
  {
   "cell_type": "markdown",
   "id": "129404feccd45358",
   "metadata": {
    "collapsed": false,
    "jupyter": {
     "outputs_hidden": false
    }
   },
   "source": [
    "## Step 1 Preprocessing\n",
    "1. Load images and labels from folders into lists.\n",
    "2. Resize the images.\n",
    "3. Convert the image data type as float32 and limit the range in [0, 1].\n",
    "4. Convert data from NHWC to NCHW and creat a PyTorch tensor from it.\n",
    "5. Per-channel standardization of the dataset using training set statistics (mean and std computed independently for each color channel).\n",
    "6. Saving the pre-processed sets as .pt files in the correct directory.\n",
    "7. Load the pre-processed sets from .pt files. "
   ]
  },
  {
   "cell_type": "code",
   "execution_count": null,
   "id": "initial_id",
   "metadata": {
    "ExecuteTime": {
     "end_time": "2025-05-10T03:38:13.117713Z",
     "start_time": "2025-05-10T03:38:13.110009Z"
    },
    "collapsed": true,
    "jupyter": {
     "outputs_hidden": true
    }
   },
   "outputs": [],
   "source": [
    "# TODO: 1. Load images from folder into a list.\n",
    "def image_loader(set_dir: str) -> Tuple[List[np.ndarray], List[str]]:\n",
    "    # function inputs directory string, and load images into memory\n",
    "    \"\"\"\n",
    "    Load all images from a dataset directory (train/val/test) into memory.\n",
    "    Make sure:\n",
    "        1. Load training and validation set images and labels in the correct order.\n",
    "        2. Load testing set images in filename order (e.g., 0.jpg, 1.jpg, ...).\n",
    "    \n",
    "    Parameters:\n",
    "    -----------\n",
    "    set_dir : str\n",
    "        Path to the directory containing either:\n",
    "        - Class subdirectories (for train/val sets)\n",
    "        - Direct image files (for test set)\n",
    "        \n",
    "    Returns:\n",
    "    --------\n",
    "    Tuple[List[np.ndarray], List[str]]\n",
    "        images: List of BGR images (HWC format, uint8 dtype)\n",
    "        labels: List of string labels (empty for test set)\n",
    "        \n",
    "    Example:\n",
    "    --------\n",
    "    >>> images_train, labels_train = image_loader(\"../dataset_split/train\")\n",
    "    >>> images_test, _ = image_loader(\"../dataset_split/test\")\n",
    "    \"\"\"\n",
    "\n",
    "    # store image and labels in these lists\n",
    "    images = []\n",
    "    labels = []\n",
    "\n",
    "    # check if its test set (folder with images only, no separated class folders)\n",
    "    is_test_set = all(file_name.lower().endswith(('.jpg')) # looking at 'every' files that ends with `.jpg` (in lower case)\n",
    "                      for file_name in os.listdir(set_dir)) # looking at the files inside the directory\n",
    "    # code above is basically a boolean. Checking if the files inside the folder is all '.jpg'. If not, go to else (where we assume is train and validation folder)\n",
    "\n",
    "    if is_test_set:\n",
    "        image_files = sorted( # sort the files in order\n",
    "            os.listdir(set_dir), # listing all files in test folder\n",
    "            key=lambda x: int(os.path.splitext(x)[0]) # create temporary function lambda for: splitext > only keeping the numeral part of every file name (deleting .jpg ext)\n",
    "        )                                             # to prevent '10' coming before '2' due to alphanumeral strings.\n",
    "\n",
    "        for file_name in image_files: # go through every file name from directory AND class\n",
    "            img_path = os.path.join(set_dir, file_name) # join folder path with image name, to create full path\n",
    "            img = cv2.imread(img_path) # using 'cv2' to load image into BGR format\n",
    "            if img is not None: # check if any images are unreadable\n",
    "                images.append(img) # append images into image list\n",
    "            else:\n",
    "                print(f\"Warning: failed to load {img_path}\")\n",
    "\n",
    "    else:\n",
    "        class_names = sorted(os.listdir(set_dir)) # label order sorted for consistency\n",
    "\n",
    "        for class_name in class_names: # going through every folder name\n",
    "            class_dir = os.path.join(set_dir, class_name) # concatenate directory folder name, with class folder name\n",
    "            image_files = sorted(os.listdir(class_dir), # lists all the image file names from class folder. Once gathered, it's sorted in order for consistency\n",
    "                                 key=lambda x: int(os.path.splitext(x)[0])\n",
    "                                 )\n",
    "            \n",
    "            for file_name in image_files:\n",
    "                img_path = os.path.join(class_dir, file_name)\n",
    "                img = cv2.imread(img_path)\n",
    "                if img is not None: # check if any images are unreadable\n",
    "                    images.append(img)\n",
    "                    labels.append(class_name) # append the class name into the labels list\n",
    "                else:\n",
    "                    print(f\"Warning: failed to load {img_path}\")\n",
    "\n",
    "    return images, labels"
   ]
  },
  {
   "cell_type": "code",
   "execution_count": null,
   "id": "e9151a560c344fe2",
   "metadata": {
    "ExecuteTime": {
     "end_time": "2025-05-10T03:38:13.472357Z",
     "start_time": "2025-05-10T03:38:13.460924Z"
    },
    "collapsed": false,
    "jupyter": {
     "outputs_hidden": false
    }
   },
   "outputs": [],
   "source": [
    "# TODO: 2. Resize images.\n",
    "def img_resize(images: List[np.ndarray], target_size: int = 224) -> np.ndarray:\n",
    "    \"\"\"\n",
    "    Resize images with the shortest edge to target_size and perform center cropping to square dimensions.\n",
    "    \n",
    "    Args:\n",
    "        images: List of input images in BGR format (OpenCV default) with shape (H, W, C)\n",
    "        target_size: Desired output size (both width and height after cropping). Default 224.\n",
    "        \n",
    "    Returns:\n",
    "        Stacked numpy array of processed images with shape (N, target_size, target_size, 3)\n",
    "        where N is the number of input images\n",
    "        \n",
    "    Raises:\n",
    "        ValueError: If input images have inconsistent channels or invalid dimensions\n",
    "        \n",
    "    Notes:\n",
    "        - Preserves original aspect ratio during resizing\n",
    "        - Performs center cropping to exact square dimensions\n",
    "        - Maintains uint8 dtype unless conversion forces float32\n",
    "        \n",
    "    Example:\n",
    "        >>> imgs = [cv2.imread('test.jpg')]  # List of BGR images\n",
    "        >>> processed = img_resize(imgs)\n",
    "        >>> processed.shape  # (1, 224, 224, 3)\n",
    "    \"\"\"\n",
    "    if not images:\n",
    "        return np.array([])\n",
    "\n",
    "    processed_images = []\n",
    "    \n",
    "    for img in images:\n",
    "        if img.ndim != 3 or img.shape[2] != 3: # checking if image is in right dimensions: (height, width, colour channels), and [2] index check if colour channel = 3\n",
    "            raise ValueError('Each image must have 3 channels (H,W,C).')\n",
    "\n",
    "        h, w, c = img.shape # put all 3 dims into own variable\n",
    "        # Rescaling: where the shortest side of image = 224, and the longer side will be scaled down to match the amount, scaled for the shorter side to keep image size\n",
    "        import math\n",
    "        if w > h:\n",
    "            new_h = target_size\n",
    "            new_w = math.ceil(w*(target_size/h)) # keep scaled image to integer, rather than float. Will cause issues when trying to use a half a pixel\n",
    "        else:\n",
    "            new_w = target_size\n",
    "            new_h = math.ceil(h*(target_size/w)) # math.ceil helps round up, and avoid numbers going smaller than 224\n",
    "\n",
    "        resized = cv2.resize(img, (new_w, new_h), interpolation=cv2.INTER_AREA) # resizing the image, based on the new preprocessed scale, where shortest side = 224 pixels\n",
    "                                                                                # cv2.INTER_AREA > downsampling image, keeps best quality of the picture\n",
    "        # Find the bounds of where to cut image from the centre. So it'll be target_size x target_size. (Using division rounding, only keeping whole number value so we can crop image with the integer)\n",
    "        start_x = (new_w - target_size) // 2 # (224 - 224) // 2 = 0\n",
    "        start_y = (new_h - target_size) // 2 # (334 - 224) // 2 = 55\n",
    "\n",
    "        if new_w < target_size or new_h < target_size:\n",
    "            raise ValueError(f\"Resized image is too small for cropping: got ({new_h}, {new_w})\")\n",
    "\n",
    "        # selects image from the centre region of it's size\n",
    "        cropped = resized[start_y:start_y + target_size, start_x:start_x + target_size] # if y = 0, then 0:0+224   if x = 55, then 55:55+224\n",
    "\n",
    "        if cropped.shape != (target_size, target_size, 3): # checking that the shape of image should be (224,224,3)\n",
    "            raise ValueError(f'Cropped image has the wrong shape: {cropped.shape}')\n",
    "        \n",
    "        processed_images.append(cropped) # adding preprocessed image to our list, so should look like (integer_location, target_size, target_size, colour_channels)\n",
    "\n",
    "    return np.stack(processed_images)\n",
    "    "
   ]
  },
  {
   "cell_type": "code",
   "execution_count": null,
   "id": "bd1862b268144556",
   "metadata": {
    "ExecuteTime": {
     "end_time": "2025-05-10T03:38:39.249145Z",
     "start_time": "2025-05-10T03:38:14.305937Z"
    },
    "collapsed": false,
    "jupyter": {
     "outputs_hidden": false
    }
   },
   "outputs": [],
   "source": [
    "# Load images\n",
    "\n",
    "images_train, labels_train = image_loader(\"../dataset_split/train\")\n",
    "images_val, labels_val = image_loader(\"../dataset_split/val\")\n",
    "images_test, _ = image_loader(\"../dataset_split/test\")"
   ]
  },
  {
   "cell_type": "code",
   "execution_count": null,
   "id": "1975435fea13d751",
   "metadata": {
    "ExecuteTime": {
     "end_time": "2025-05-10T03:39:17.095684Z",
     "start_time": "2025-05-10T03:38:57.883480Z"
    },
    "collapsed": false,
    "jupyter": {
     "outputs_hidden": false
    }
   },
   "outputs": [],
   "source": [
    "# Resize the images\n",
    "\n",
    "images_train = img_resize(images_train, 224)\n",
    "images_val = img_resize(images_val, 224)\n",
    "images_test = img_resize(images_test, 224)"
   ]
  },
  {
   "cell_type": "code",
   "execution_count": null,
   "id": "bd71fcddecfefdbf",
   "metadata": {
    "ExecuteTime": {
     "end_time": "2025-05-10T03:39:20.788788Z",
     "start_time": "2025-05-10T03:39:17.097418Z"
    },
    "collapsed": false,
    "jupyter": {
     "outputs_hidden": false
    }
   },
   "outputs": [],
   "source": [
    "# TODO: 3. Convert the image data type as float32 and limit the range in [0, 1].\n",
    "\n",
    "images_train = (images_train/255.0).astype(np.float32) # image values only range from 0 to 255. So dividing by 255 will keep between 0 to 255\n",
    "images_val = (images_val/255.0).astype(np.float32)\n",
    "images_test = (images_test/255.0).astype(np.float32)"
   ]
  },
  {
   "cell_type": "code",
   "execution_count": null,
   "id": "1938cec6018a8176",
   "metadata": {
    "ExecuteTime": {
     "end_time": "2025-05-10T03:39:21.156559Z",
     "start_time": "2025-05-10T03:39:20.789492Z"
    },
    "collapsed": false,
    "jupyter": {
     "outputs_hidden": false
    }
   },
   "outputs": [],
   "source": [
    "# TODO: 4. Convert data from NHWC to NCHW and creat a PyTorch tensor from it.\n",
    "\n",
    "# aka, reorganize the orientation of the processed shape from img_resize: (1, 224, 224, 3) to (1, 3, 224, 224)\n",
    "tensor_train = torch.tensor(np.transpose(images_train, (0,3,1,2))).float()\n",
    "tensor_val = torch.tensor(np.transpose(images_val, (0,3,1,2))).float()\n",
    "tensor_test = torch.tensor(np.transpose(images_test, (0,3,1,2))).float()"
   ]
  },
  {
   "cell_type": "code",
   "execution_count": null,
   "id": "d584e1b61e015747",
   "metadata": {
    "ExecuteTime": {
     "end_time": "2025-05-10T03:39:32.523629Z",
     "start_time": "2025-05-10T03:39:21.158863Z"
    },
    "collapsed": false,
    "jupyter": {
     "outputs_hidden": false
    }
   },
   "outputs": [],
   "source": [
    "# TODO: 5. Per-channel standardization of the dataset using training set statistics (mean and std computed independently for each color channel).\n",
    "\n",
    "# we have shape (1, 3, 224, 224) > but want to compute mean/std on N, H, W, not C. Since we want it computed for each colour channel. Making our shape (1, 3, 1, 1)\n",
    "train_mean = tensor_train.mean(axis=(0,2,3), keepdims=True) # find mean for the values in int 0, 2, and 3\n",
    "                                                            # keepdims=True, allows the operation performed on each part of the shape, stay in it's original dimension, rather squeezing them down into a simple one-dim list.\n",
    "train_std = tensor_train.std(axis=(0,2,3), keepdims=True)\n",
    "\n",
    "# apply normalization with train's mean and std, so all is standardized to it.\n",
    "tensor_train = (tensor_train - train_mean) / train_std # (tensor_train - train_mean) > centres data avg to 0, removing bias from brightness and colour\n",
    "tensor_val = (tensor_val - train_mean) / train_std # / std > scales data so it scales consistently (eliminating contrast variability)\n",
    "tensor_test = (tensor_val - train_mean) / train_std"
   ]
  },
  {
   "cell_type": "code",
   "execution_count": 97,
   "id": "9f7a684ba9e6561c",
   "metadata": {
    "ExecuteTime": {
     "end_time": "2025-05-10T03:39:41.944582Z",
     "start_time": "2025-05-10T03:39:32.524747Z"
    },
    "collapsed": false,
    "jupyter": {
     "outputs_hidden": false
    }
   },
   "outputs": [],
   "source": [
    "# TODO: 6. Save the pre-processed sets as .pt files.\n",
    "\n",
    "# 6.1 Save the tensor_train, tensor_val, and tensor_test as tensor_train.pt, tensor_val.pt, and tensor_test.pt, respectively.\n",
    "os.makedirs('data_preprocessed', exist_ok=True) # create data_preprocessed folder, and skip if it exists\n",
    "\n",
    "torch.save(tensor_train, 'data_preprocessed/tensor_train.pt')\n",
    "torch.save(tensor_val, 'data_preprocessed/tensor_val.pt')\n",
    "torch.save(tensor_test, 'data_preprocessed/tensor_test.pt')\n",
    "\n",
    "# 6.2 Create a list to map index to label and a dictionary to map label to index.\n",
    "#   For instance:\n",
    "#       unique_labels = ['african_elephant', 'airliner', ...]\n",
    "#       label_to_index = {\n",
    "#           'african_elephant': 0,\n",
    "#           'airliner': 1,\n",
    "#           ...\n",
    "#       }\n",
    "unique_labels = ['african_elephant', 'airliner', 'banana', 'convertible_car', 'golden_retriever', 'goldfish', 'parachute', 'rugby', 'sunglasses', 'tiger_cat']\n",
    "label_to_index = {\n",
    "    'african_elephant':0,\n",
    "    'airliner':1,\n",
    "    'banana':2,\n",
    "    'convertible_car':3,\n",
    "    'golden_retriever':4,\n",
    "    'goldfish':5,\n",
    "    'parachute':6,\n",
    "    'rugby':7,\n",
    "    'sunglasses':8,\n",
    "    'tiger_cat':9\n",
    "}\n",
    "\n",
    "# 6.3 Map the labels to index.\n",
    "labels_train_index = [label_to_index[label] for label in labels_train] # for every label inside the list, find the corresponding index from the dictionary\n",
    "labels_val_index = [label_to_index[label] for label in labels_val]\n",
    "\n",
    "# then convert labels to pytorch tensors, to match our training data\n",
    "labels_train_index = torch.tensor(labels_train_index, dtype=torch.long) # dtype torch.long > keeps our labels as integer, rather than floats (which can break our model)\n",
    "labels_val_index = torch.tensor(labels_val_index, dtype=torch.long)\n",
    "\n",
    "# 6.4 Save the index, label_to_index, and index_to_label.\n",
    "torch.save(labels_train_index, 'data_preprocessed/labels_train.pt')\n",
    "torch.save(labels_val_index, 'data_preprocessed/labels_val.pt')"
   ]
  },
  {
   "cell_type": "markdown",
   "id": "88cd2945",
   "metadata": {},
   "source": [
    "The `pre_processed` folder was created inside `src`. So I've moved the folder out of `src`, to match folder structure or phase 3."
   ]
  },
  {
   "cell_type": "code",
   "execution_count": null,
   "id": "cbe1882f",
   "metadata": {},
   "outputs": [
    {
     "name": "stdout",
     "output_type": "stream",
     "text": [
      "<class 'torch.Tensor'>\n"
     ]
    }
   ],
   "source": [
    "print(type(labels_train_index)) "
   ]
  },
  {
   "cell_type": "code",
   "execution_count": null,
   "id": "a3a5a646027a826",
   "metadata": {
    "ExecuteTime": {
     "end_time": "2025-05-10T03:39:45.192760Z",
     "start_time": "2025-05-10T03:39:41.946771Z"
    },
    "collapsed": false,
    "jupyter": {
     "outputs_hidden": false
    }
   },
   "outputs": [
    {
     "name": "stdout",
     "output_type": "stream",
     "text": [
      "torch.Size([7800, 3, 224, 224]) torch.Size([7800])\n"
     ]
    }
   ],
   "source": [
    "# TODO: 7. Load the pre-processed sets from .pt files. The data can be used directly in future without pre-processing once more by loading from the folder.\n",
    "\n",
    "# finding data path. '..' goes up one directory, so we can then access `data_preprocessed`\n",
    "data_path = '../data_preprocessed/'\n",
    "\n",
    "# load tensor\n",
    "tensor_train = torch.load(data_path + 'tensor_train.pt')\n",
    "tensor_val = torch.load(data_path + 'tensor_val.pt')\n",
    "tensor_test = torch.load(data_path + 'tensor_test.pt')\n",
    "\n",
    "labels_train_index = torch.load(data_path + 'labels_train.pt')\n",
    "labels_val_index = torch.load(data_path + 'labels_val.pt')\n",
    "\n",
    "print(tensor_train.shape, labels_train_index.shape)"
   ]
  },
  {
   "cell_type": "markdown",
   "id": "f5cb7cfa317410ff",
   "metadata": {
    "collapsed": false,
    "jupyter": {
     "outputs_hidden": false
    }
   },
   "source": [
    "# Step 2 Train the teacher model (ResNet34)\n",
    "1. Set hyperparameters for the training process.\n",
    "2. Create a pretrained ResNet34.\n",
    "3. Define the optimizer, loss function, etc.\n",
    "4. Train ResNet34 and save the best-performing parameters to 'resnet34_checkpoint.pkl'.\n",
    "5. Plot the loss and accuracy curves."
   ]
  },
  {
   "cell_type": "code",
   "execution_count": null,
   "id": "745979a1b12465eb",
   "metadata": {
    "ExecuteTime": {
     "end_time": "2025-05-10T01:43:51.705549Z",
     "start_time": "2025-05-10T01:43:51.663106Z"
    },
    "collapsed": false,
    "jupyter": {
     "outputs_hidden": false
    }
   },
   "outputs": [
    {
     "name": "stdout",
     "output_type": "stream",
     "text": [
      "tensor(10)\n",
      "torch.Size([7800, 3, 224, 224])\n",
      "torch.Size([2600, 3, 224, 224])\n",
      "torch.Size([2600, 3, 224, 224])\n",
      "torch.Size([7800])\n",
      "torch.Size([2600])\n"
     ]
    }
   ],
   "source": [
    "# Verify data shapes, so they're the same as the output before code was running\n",
    "\n",
    "num_classes = max(labels_train_index) + 1\n",
    "print(num_classes)\n",
    "print(tensor_train.shape)\n",
    "print(tensor_val.shape)\n",
    "print(tensor_test.shape)\n",
    "print(labels_train_index.shape)\n",
    "print(labels_val_index.shape)"
   ]
  },
  {
   "cell_type": "code",
   "execution_count": null,
   "id": "507aa43e1a3701b5",
   "metadata": {
    "ExecuteTime": {
     "end_time": "2025-05-10T01:43:52.604546Z",
     "start_time": "2025-05-10T01:43:52.600245Z"
    },
    "collapsed": false,
    "jupyter": {
     "outputs_hidden": false
    }
   },
   "outputs": [],
   "source": [
    "# TODO: 1. Set hyperparameters for the training process.\n",
    "\n",
    "MAX_EPOCH = 5\n",
    "INIT_LR = 0.1\n",
    "BATCH_SIZE = 64\n",
    "\n",
    "# Specify the training device (automatically detects GPU if available)\n",
    "# Usage example: \n",
    "#   tensor = tensor.to(device)  # Moves tensor to selected device\n",
    "device = torch.device(\"cuda\" if torch.cuda.is_available() else \"cpu\")"
   ]
  },
  {
   "cell_type": "code",
   "execution_count": null,
   "id": "c8b9bf9ed5ae5cf9",
   "metadata": {
    "ExecuteTime": {
     "end_time": "2025-05-10T01:43:55.541802Z",
     "start_time": "2025-05-10T01:43:55.291383Z"
    },
    "collapsed": false,
    "jupyter": {
     "outputs_hidden": false
    }
   },
   "outputs": [
    {
     "name": "stdout",
     "output_type": "stream",
     "text": [
      "Downloading: \"https://download.pytorch.org/models/resnet34-b627a593.pth\" to C:\\Users\\deanc/.cache\\torch\\hub\\checkpoints\\resnet34-b627a593.pth\n"
     ]
    },
    {
     "name": "stderr",
     "output_type": "stream",
     "text": [
      "100%|██████████| 83.3M/83.3M [00:07<00:00, 11.4MB/s]\n"
     ]
    }
   ],
   "source": [
    "# TODO: 2. Create a pretrained ResNet34.\n",
    "\n",
    "# 2.1 Use torchvision to create a pretrained ResNet34.\n",
    "import torchvision.models as models # to get torchvision models\n",
    "\n",
    "# load pretrained resnet 34\n",
    "resnet34 = models.resnet34(weights=models.ResNet34_Weights.DEFAULT)\n",
    "\n",
    "# 2.2 Modify the output layer so that the model aligns with this project.\n",
    "num_classes = 10\n",
    "resnet34.fc = nn.Linear(resnet34.fc.in_features, num_classes) # accessing in and out feature parameter. Changing the out feature, which is default to 1000, to '10'. As this is the number of classes the model is predicting\n",
    "\n",
    "# 2.2 Move the model to selected device, aka our GPU or CPU if GPU is not available\n",
    "resnet34 = resnet34.to(device)"
   ]
  },
  {
   "cell_type": "code",
   "execution_count": null,
   "id": "70de5ac59beb12d",
   "metadata": {
    "ExecuteTime": {
     "end_time": "2025-05-10T01:43:56.555839Z",
     "start_time": "2025-05-10T01:43:56.542721Z"
    },
    "collapsed": false,
    "jupyter": {
     "outputs_hidden": false
    }
   },
   "outputs": [],
   "source": [
    "# TODO: 3. Define the optimizer, loss function, etc.\n",
    "\n",
    "import torch.optim as optim # importing our optimizers\n",
    "\n",
    "optimizer = optim.SGD(resnet34.parameters(), # Using SGD over Adam, as it usually works well with CNNs, and not overfit as easily as Adam \n",
    "                      lr=INIT_LR, # use initial learning rate that's been stated in a past code block\n",
    "                      momentum=0.9, # smooths optimization path, making training stable\n",
    "                      weight_decay=5e-4) # adds L2 ridge regularization, reducing overfitting\n",
    "\n",
    "criterion = nn.CrossEntropyLoss() # this is standard for multi-class classification"
   ]
  },
  {
   "cell_type": "code",
   "execution_count": null,
   "id": "65a797debcc531db",
   "metadata": {
    "collapsed": false,
    "jupyter": {
     "outputs_hidden": false
    }
   },
   "outputs": [
    {
     "name": "stdout",
     "output_type": "stream",
     "text": [
      "\n",
      "EPOCH: 1/5\n",
      "Epoch 1 > Train Loss: 3.135, Train Acc: 0.211, Val Loss: 2.039, Val Acc: 0.244\n",
      "\n",
      "EPOCH: 2/5\n",
      "Epoch 2 > Train Loss: 1.914, Train Acc: 0.298, Val Loss: 1.804, Val Acc: 0.343\n",
      "\n",
      "EPOCH: 3/5\n",
      "Epoch 3 > Train Loss: 1.760, Train Acc: 0.367, Val Loss: 1.712, Val Acc: 0.405\n",
      "\n",
      "EPOCH: 4/5\n",
      "Epoch 4 > Train Loss: 1.583, Train Acc: 0.446, Val Loss: 1.447, Val Acc: 0.497\n",
      "\n",
      "EPOCH: 5/5\n",
      "Epoch 5 > Train Loss: 1.380, Train Acc: 0.533, Val Loss: 1.351, Val Acc: 0.541\n"
     ]
    }
   ],
   "source": [
    "# TODO: 4. Train ResNet34 and save the best-performing parameters to 'resnet34_checkpoint.pkl'.\n",
    "# Hint: May not need too many epochs as this is a pretrained model.\n",
    "from torch.utils.data import DataLoader # importing this, which helps implement shuffling element, and handles memory\n",
    "\n",
    "\n",
    "# firstly combine tensor images and labels into a dataset, for both train and val\n",
    "train_dataset = torch.utils.data.TensorDataset(tensor_train, labels_train_index) # combining both tensors into a dataset\n",
    "train_loader = DataLoader(train_dataset, batch_size=BATCH_SIZE, shuffle=True) # add batch, and include shuffling so every batch has a variation of different classes for the model to make predictions against\n",
    "\n",
    "# combine for validation set\n",
    "val_dataset = torch.utils.data.TensorDataset(tensor_val, labels_val_index)\n",
    "val_loader = DataLoader(val_dataset, batch_size=BATCH_SIZE, shuffle=True)\n",
    "\n",
    "train_accs_resnet34, train_losses_resnet34, val_accs_resnet34, val_losses_resnet34 = [], [], [], []\n",
    "\n",
    "for epoch in range(MAX_EPOCH):\n",
    "    print(f'\\nEPOCH: {epoch + 1}/{MAX_EPOCH}') # stating which epoch we're at, out of the number of epochs we're training the model\n",
    "\n",
    "    # Train\n",
    "    resnet34.train()\n",
    "\n",
    "    # Create variables to hold accuracy and loss data during training\n",
    "    train_correct = 0 # how many predictions were correct\n",
    "    train_total = 0 # how many samples the model has seen\n",
    "    train_loss = 0.0 # accumulation of total loss from every batch\n",
    "\n",
    "    for inputs, labels in train_loader:\n",
    "        inputs, labels = inputs.to(device), labels.to(device) # moving the data to the correct device for training (aka the GPU or CPU if the initial is not present/available)\n",
    "\n",
    "        optimizer.zero_grad() # clears the gradients from previous batch/backpropagation, so they don't accumulate\n",
    "                              # if the gradient accumulates, the model willthink it's still processing the previous batch, and override it's gradients\n",
    "        outputs = resnet34(inputs) # pass in the input batch data to the model, to then predict probabilities\n",
    "        loss = criterion(outputs,labels) # our criterion (our loss function), the crossentropy is comparing between prediction output and true labels. Then returns loss value from the batch\n",
    "        loss.backward() # performs backpropagation, by using the loss values, and computing how much the parameter should change to fix the mistake, aka it's gradient\n",
    "        optimizer.step() # updating the model weights for the specific batch it's learnt from\n",
    "\n",
    "        train_loss += loss.item() * inputs.size(0) # computing total loss per batch. Where (loss value * batch size). Helps sum total loss for every batch, no matter the batch size\n",
    "        _, predicted = torch.max(outputs,1) # we pull the output (prediction probabilities), and have pytorch pull out the max/highest probability\n",
    "                                            # '_' > the highest prediction value, 'predicted' > index location of prediction value. The value of prediction is not important, but rather the indexing, as that's the class label\n",
    "        train_correct += (predicted == labels).sum().item() # collect all the number of times, prediction is correct. '.item()' > converts tensor element into an integer, so mathematical operations wouldn't cause errors\n",
    "        train_total += labels.size(0) # counting the total number of training data we have. labels.size(0) gives us the batch size, and we add it on top every round\n",
    "\n",
    "    train_loss = train_loss/train_total # get average loss, by dividing the total loss with the number of training data\n",
    "    train_acc = train_correct/train_total # dividing the correct predictions, over total number of predictions, give us a value of how accurate the modelis\n",
    "    train_losses_resnet34.append(train_loss) # append our results for one epoch\n",
    "    train_accs_resnet34.append(train_acc)\n",
    "\n",
    "    # Validation\n",
    "    resnet34.eval() # change to evaluation mode to prevent updating of gradients\n",
    "    val_correct = 0\n",
    "    val_total = 0\n",
    "    val_loss = 0.0\n",
    "\n",
    "    with torch.no_grad(): # gradient tracking is disabled, since we're in validation state. No need to train the model\n",
    "        for inputs, labels in val_loader:\n",
    "            inputs, labels = inputs.to(device), labels.to(device)\n",
    "            outputs = resnet34(inputs)\n",
    "            loss = criterion(outputs, labels)\n",
    "\n",
    "            val_loss += loss.item() * inputs.size(0)\n",
    "            _, predicted = torch.max(outputs,1)\n",
    "            val_correct += (predicted == labels).sum().item()\n",
    "            val_total += labels.size(0)\n",
    "\n",
    "        val_loss = val_loss/val_total\n",
    "        val_acc = val_correct/val_total\n",
    "        val_losses_resnet34.append(val_loss)\n",
    "        val_accs_resnet34.append(val_acc)\n",
    "\n",
    "        print(f'Epoch {epoch+1} > Train Loss: {train_loss:.3f}, Train Acc: {train_acc:.3f}, Val Loss: {val_loss:.3f}, Val Acc: {val_acc:.3f}')"
   ]
  },
  {
   "cell_type": "markdown",
   "id": "4baac6c3",
   "metadata": {},
   "source": [
    "Unfortunately, I forgot to create an if else statement, to save the best model when comparing the validation accuracy/loss of the epoch to the previous epoch.\n",
    "\n",
    "Luckily, all loss and accuracy are decreasing per epoch, so can save the latest epoch gradients"
   ]
  },
  {
   "cell_type": "code",
   "execution_count": null,
   "id": "6b5ce6af",
   "metadata": {},
   "outputs": [],
   "source": [
    "torch.save(resnet34.state_dict(), '../models/resnet34_checkpoint.pkl')"
   ]
  },
  {
   "cell_type": "code",
   "execution_count": null,
   "id": "bb5a3089891cf4a3",
   "metadata": {
    "collapsed": false,
    "jupyter": {
     "outputs_hidden": false
    }
   },
   "outputs": [
    {
     "data": {
      "image/png": "[encoded data removed]",
      "text/plain": [
       "<Figure size 1200x500 with 2 Axes>"
      ]
     },
     "metadata": {},
     "output_type": "display_data"
    }
   ],
   "source": [
    "# TODO: 5. Plot the loss and accuracy curves.\n",
    "\n",
    "# Plotting Loss\n",
    "plt.figure(figsize=(12, 5))\n",
    "\n",
    "plt.subplot(1, 2, 1)\n",
    "plt.plot(train_losses_resnet34, label='Train Loss')\n",
    "plt.plot(val_losses_resnet34, label='Val Loss')\n",
    "plt.title('Loss over Epochs')\n",
    "plt.xlabel('Epoch')\n",
    "plt.ylabel('Loss')\n",
    "plt.legend()\n",
    "plt.grid(True)\n",
    "\n",
    "# Plotting Accuracy\n",
    "plt.subplot(1, 2, 2)\n",
    "plt.plot(train_accs_resnet34, label='Train Accuracy')\n",
    "plt.plot(val_accs_resnet34, label='Val Accuracy')\n",
    "plt.title('Accuracy over Epochs')\n",
    "plt.xlabel('Epoch')\n",
    "plt.ylabel('Accuracy')\n",
    "plt.legend()\n",
    "plt.grid(True)\n",
    "\n",
    "plt.tight_layout()\n",
    "plt.show()\n"
   ]
  },
  {
   "cell_type": "markdown",
   "id": "897fa4102b57deab",
   "metadata": {
    "collapsed": false,
    "jupyter": {
     "outputs_hidden": false
    }
   },
   "source": [
    "# Step 3 Train the student model (ResNet18)\n",
    "1. Set hyperparameters for the distillation process.\n",
    "2. Create a NON-PRETRAINED ResNet18 and move the model to selected device.\n",
    "3. Load the saved ResNet34 and move the model to selected device.\n",
    "4. Define the optimizer, loss function, etc.\n",
    "5. Train ResNet18 and save the best-performing parameters to 'resnet18_checkpoint.pkl'.\n",
    "6. Plot the loss and accuracy curves."
   ]
  },
  {
   "cell_type": "code",
   "execution_count": null,
   "id": "68482456ab9410f8",
   "metadata": {
    "ExecuteTime": {
     "end_time": "2025-05-10T01:57:38.370616Z",
     "start_time": "2025-05-10T01:57:38.341026Z"
    },
    "collapsed": false,
    "jupyter": {
     "outputs_hidden": false
    }
   },
   "outputs": [
    {
     "name": "stdout",
     "output_type": "stream",
     "text": [
      "tensor(10)\n",
      "torch.Size([7800, 3, 224, 224])\n",
      "torch.Size([2600, 3, 224, 224])\n",
      "torch.Size([2600, 3, 224, 224])\n",
      "torch.Size([7800])\n",
      "torch.Size([2600])\n"
     ]
    }
   ],
   "source": [
    "# Verify data shapes\n",
    "\n",
    "num_classes = max(labels_train_index) + 1\n",
    "print(num_classes)\n",
    "print(tensor_train.shape)\n",
    "print(tensor_val.shape)\n",
    "print(tensor_test.shape)\n",
    "print(labels_train_index.shape)\n",
    "print(labels_val_index.shape)"
   ]
  },
  {
   "cell_type": "code",
   "execution_count": null,
   "id": "0f9eeb77",
   "metadata": {},
   "outputs": [],
   "source": [
    "pip install torch torchvision torchaudio --index-url https://download.pytorch.org/whl/cu126"
   ]
  },
  {
   "cell_type": "code",
   "execution_count": null,
   "id": "e67b596b",
   "metadata": {},
   "outputs": [
    {
     "name": "stdout",
     "output_type": "stream",
     "text": [
      "12.6\n",
      "True\n",
      "1\n"
     ]
    }
   ],
   "source": [
    "import torch\n",
    "print(torch.version.cuda)         # Should not be None\n",
    "print(torch.cuda.is_available())  # Should be True\n",
    "print(torch.cuda.device_count())  # Should be >= 1\n"
   ]
  },
  {
   "cell_type": "code",
   "execution_count": 188,
   "id": "36a405975e022459",
   "metadata": {
    "ExecuteTime": {
     "end_time": "2025-05-10T01:57:39.329470Z",
     "start_time": "2025-05-10T01:57:39.294551Z"
    },
    "collapsed": false,
    "jupyter": {
     "outputs_hidden": false
    }
   },
   "outputs": [],
   "source": [
    "# TODO: 1. Set hyperparameters for the distillation process.\n",
    "\n",
    "MAX_EPOCH = 5\n",
    "INIT_LR = 0.001 # good starting lr for knowledge distillation or small model with soft targets\n",
    "BATCH_SIZE = 64 # small batch = better generalization but noisier results, large batch = faster training but less accurate\n",
    "device = torch.device(\"cuda\" if torch.cuda.is_available() else \"cpu\")\n",
    "\n",
    "TEMPERATURE = 4.0 # controlling softness of the teacher model's output logits. Helps student model learn better generalization patterns. Higher temp = Generalized prediction, Lower temp = Confident/Sharper prediction\n",
    "LOSS_RATIO = 0.7 # balance for student model to learn from teacher knowledge, and true labels. Higher values = stronger knowledge distillation effect"
   ]
  },
  {
   "cell_type": "code",
   "execution_count": 84,
   "id": "e7d2325836c2cf7d",
   "metadata": {
    "ExecuteTime": {
     "end_time": "2025-05-10T01:57:43.030265Z",
     "start_time": "2025-05-10T01:57:42.861042Z"
    },
    "collapsed": false,
    "jupyter": {
     "outputs_hidden": false
    }
   },
   "outputs": [
    {
     "name": "stderr",
     "output_type": "stream",
     "text": [
      "x:\\Anaconda3\\Lib\\site-packages\\torchvision\\models\\_utils.py:208: UserWarning: The parameter 'pretrained' is deprecated since 0.13 and may be removed in the future, please use 'weights' instead.\n",
      "  warnings.warn(\n",
      "x:\\Anaconda3\\Lib\\site-packages\\torchvision\\models\\_utils.py:223: UserWarning: Arguments other than a weight enum or `None` for 'weights' are deprecated since 0.13 and may be removed in the future. The current behavior is equivalent to passing `weights=None`.\n",
      "  warnings.warn(msg)\n"
     ]
    }
   ],
   "source": [
    "# TODO: 2. Create a NON-PRETRAINED ResNet18 and move the model to selected device.\n",
    "import torchvision.models as models\n",
    "\n",
    "resnet18 = models.resnet18(pretrained=False) # adding untrained resnet18 with original weights\n",
    "resnet18.fc = nn.Linear(in_features=512, out_features=10) # make sure resnet18 has same output size as resnet34\n",
    "resnet18 = resnet18.to(device) # put it onto our device, aka our gpu"
   ]
  },
  {
   "cell_type": "code",
   "execution_count": 163,
   "id": "b8092f5d5acce972",
   "metadata": {
    "collapsed": false,
    "jupyter": {
     "outputs_hidden": false
    }
   },
   "outputs": [
    {
     "name": "stderr",
     "output_type": "stream",
     "text": [
      "x:\\Anaconda3\\Lib\\site-packages\\torchvision\\models\\_utils.py:208: UserWarning: The parameter 'pretrained' is deprecated since 0.13 and may be removed in the future, please use 'weights' instead.\n",
      "  warnings.warn(\n",
      "x:\\Anaconda3\\Lib\\site-packages\\torchvision\\models\\_utils.py:223: UserWarning: Arguments other than a weight enum or `None` for 'weights' are deprecated since 0.13 and may be removed in the future. The current behavior is equivalent to passing `weights=None`.\n",
      "  warnings.warn(msg)\n"
     ]
    }
   ],
   "source": [
    "# TODO: 3. Load the saved ResNet34 and move the model to selected device.\n",
    "# Hint: Enable the evaluation mode to prevent updating the parameters.\n",
    "\n",
    "resnet34 = models.resnet34(pretrained=False) # add in resnet34 model structure, so we can then input the contents from saved model\n",
    "resnet34.fc = nn.Linear(512,10)\n",
    "resnet34.load_state_dict(torch.load('../models/resnet34_checkpoint.pkl', map_location=device)) # loading saved model\n",
    "                                                                                               # map_locaton=device > important if the model was trained on different devices, allowing pytorch to remap on another device\n",
    "resnet34 = resnet34.to(device) \n",
    "resnet34.eval() # set to evaluation mode, so parameters will not update automatically\n",
    "\n",
    "for param in resnet34.parameters():\n",
    "    param.requires_grad = False"
   ]
  },
  {
   "cell_type": "code",
   "execution_count": null,
   "id": "394dab54",
   "metadata": {},
   "outputs": [
    {
     "data": {
      "text/plain": [
       "ResNet(\n",
       "  (conv1): Conv2d(3, 64, kernel_size=(7, 7), stride=(2, 2), padding=(3, 3), bias=False)\n",
       "  (bn1): BatchNorm2d(64, eps=1e-05, momentum=0.1, affine=True, track_running_stats=True)\n",
       "  (relu): ReLU(inplace=True)\n",
       "  (maxpool): MaxPool2d(kernel_size=3, stride=2, padding=1, dilation=1, ceil_mode=False)\n",
       "  (layer1): Sequential(\n",
       "    (0): BasicBlock(\n",
       "      (conv1): Conv2d(64, 64, kernel_size=(3, 3), stride=(1, 1), padding=(1, 1), bias=False)\n",
       "      (bn1): BatchNorm2d(64, eps=1e-05, momentum=0.1, affine=True, track_running_stats=True)\n",
       "      (relu): ReLU(inplace=True)\n",
       "      (conv2): Conv2d(64, 64, kernel_size=(3, 3), stride=(1, 1), padding=(1, 1), bias=False)\n",
       "      (bn2): BatchNorm2d(64, eps=1e-05, momentum=0.1, affine=True, track_running_stats=True)\n",
       "    )\n",
       "    (1): BasicBlock(\n",
       "      (conv1): Conv2d(64, 64, kernel_size=(3, 3), stride=(1, 1), padding=(1, 1), bias=False)\n",
       "      (bn1): BatchNorm2d(64, eps=1e-05, momentum=0.1, affine=True, track_running_stats=True)\n",
       "      (relu): ReLU(inplace=True)\n",
       "      (conv2): Conv2d(64, 64, kernel_size=(3, 3), stride=(1, 1), padding=(1, 1), bias=False)\n",
       "      (bn2): BatchNorm2d(64, eps=1e-05, momentum=0.1, affine=True, track_running_stats=True)\n",
       "    )\n",
       "  )\n",
       "  (layer2): Sequential(\n",
       "    (0): BasicBlock(\n",
       "      (conv1): Conv2d(64, 128, kernel_size=(3, 3), stride=(2, 2), padding=(1, 1), bias=False)\n",
       "      (bn1): BatchNorm2d(128, eps=1e-05, momentum=0.1, affine=True, track_running_stats=True)\n",
       "      (relu): ReLU(inplace=True)\n",
       "      (conv2): Conv2d(128, 128, kernel_size=(3, 3), stride=(1, 1), padding=(1, 1), bias=False)\n",
       "      (bn2): BatchNorm2d(128, eps=1e-05, momentum=0.1, affine=True, track_running_stats=True)\n",
       "      (downsample): Sequential(\n",
       "        (0): Conv2d(64, 128, kernel_size=(1, 1), stride=(2, 2), bias=False)\n",
       "        (1): BatchNorm2d(128, eps=1e-05, momentum=0.1, affine=True, track_running_stats=True)\n",
       "      )\n",
       "    )\n",
       "    (1): BasicBlock(\n",
       "      (conv1): Conv2d(128, 128, kernel_size=(3, 3), stride=(1, 1), padding=(1, 1), bias=False)\n",
       "      (bn1): BatchNorm2d(128, eps=1e-05, momentum=0.1, affine=True, track_running_stats=True)\n",
       "      (relu): ReLU(inplace=True)\n",
       "      (conv2): Conv2d(128, 128, kernel_size=(3, 3), stride=(1, 1), padding=(1, 1), bias=False)\n",
       "      (bn2): BatchNorm2d(128, eps=1e-05, momentum=0.1, affine=True, track_running_stats=True)\n",
       "    )\n",
       "  )\n",
       "  (layer3): Sequential(\n",
       "    (0): BasicBlock(\n",
       "      (conv1): Conv2d(128, 256, kernel_size=(3, 3), stride=(2, 2), padding=(1, 1), bias=False)\n",
       "      (bn1): BatchNorm2d(256, eps=1e-05, momentum=0.1, affine=True, track_running_stats=True)\n",
       "      (relu): ReLU(inplace=True)\n",
       "      (conv2): Conv2d(256, 256, kernel_size=(3, 3), stride=(1, 1), padding=(1, 1), bias=False)\n",
       "      (bn2): BatchNorm2d(256, eps=1e-05, momentum=0.1, affine=True, track_running_stats=True)\n",
       "      (downsample): Sequential(\n",
       "        (0): Conv2d(128, 256, kernel_size=(1, 1), stride=(2, 2), bias=False)\n",
       "        (1): BatchNorm2d(256, eps=1e-05, momentum=0.1, affine=True, track_running_stats=True)\n",
       "      )\n",
       "    )\n",
       "    (1): BasicBlock(\n",
       "      (conv1): Conv2d(256, 256, kernel_size=(3, 3), stride=(1, 1), padding=(1, 1), bias=False)\n",
       "      (bn1): BatchNorm2d(256, eps=1e-05, momentum=0.1, affine=True, track_running_stats=True)\n",
       "      (relu): ReLU(inplace=True)\n",
       "      (conv2): Conv2d(256, 256, kernel_size=(3, 3), stride=(1, 1), padding=(1, 1), bias=False)\n",
       "      (bn2): BatchNorm2d(256, eps=1e-05, momentum=0.1, affine=True, track_running_stats=True)\n",
       "    )\n",
       "  )\n",
       "  (layer4): Sequential(\n",
       "    (0): BasicBlock(\n",
       "      (conv1): Conv2d(256, 512, kernel_size=(3, 3), stride=(2, 2), padding=(1, 1), bias=False)\n",
       "      (bn1): BatchNorm2d(512, eps=1e-05, momentum=0.1, affine=True, track_running_stats=True)\n",
       "      (relu): ReLU(inplace=True)\n",
       "      (conv2): Conv2d(512, 512, kernel_size=(3, 3), stride=(1, 1), padding=(1, 1), bias=False)\n",
       "      (bn2): BatchNorm2d(512, eps=1e-05, momentum=0.1, affine=True, track_running_stats=True)\n",
       "      (downsample): Sequential(\n",
       "        (0): Conv2d(256, 512, kernel_size=(1, 1), stride=(2, 2), bias=False)\n",
       "        (1): BatchNorm2d(512, eps=1e-05, momentum=0.1, affine=True, track_running_stats=True)\n",
       "      )\n",
       "    )\n",
       "    (1): BasicBlock(\n",
       "      (conv1): Conv2d(512, 512, kernel_size=(3, 3), stride=(1, 1), padding=(1, 1), bias=False)\n",
       "      (bn1): BatchNorm2d(512, eps=1e-05, momentum=0.1, affine=True, track_running_stats=True)\n",
       "      (relu): ReLU(inplace=True)\n",
       "      (conv2): Conv2d(512, 512, kernel_size=(3, 3), stride=(1, 1), padding=(1, 1), bias=False)\n",
       "      (bn2): BatchNorm2d(512, eps=1e-05, momentum=0.1, affine=True, track_running_stats=True)\n",
       "    )\n",
       "  )\n",
       "  (avgpool): AdaptiveAvgPool2d(output_size=(1, 1))\n",
       "  (fc): Linear(in_features=512, out_features=1000, bias=True)\n",
       ")"
      ]
     },
     "execution_count": 44,
     "metadata": {},
     "output_type": "execute_result"
    }
   ],
   "source": [
    "resnet18"
   ]
  },
  {
   "cell_type": "code",
   "execution_count": 164,
   "id": "f312a04da1e5ddf6",
   "metadata": {
    "ExecuteTime": {
     "end_time": "2025-05-10T01:57:49.170629Z",
     "start_time": "2025-05-10T01:57:49.152278Z"
    },
    "collapsed": false,
    "jupyter": {
     "outputs_hidden": false
    }
   },
   "outputs": [],
   "source": [
    "# TODO: 4. Define the optimizer, loss function, etc.\n",
    "\n",
    "optimizer = torch.optim.Adam(resnet18.parameters(), lr=INIT_LR) # used to update model parameters. Common choice is Adam or SGD, but we've setteled with Adam due to broad general good fit on every problem\n",
    "scheduler = torch.optim.lr_scheduler.StepLR(optimizer, step_size=20, gamma=0.1) # adjust lr during training to help with convergence. This is reducing lr by 0.1 every 20 epochs"
   ]
  },
  {
   "cell_type": "code",
   "execution_count": 181,
   "id": "a94b364b",
   "metadata": {},
   "outputs": [
    {
     "name": "stderr",
     "output_type": "stream",
     "text": [
      "100%|██████████| 122/122 [03:03<00:00,  1.50s/it]\n"
     ]
    },
    {
     "name": "stdout",
     "output_type": "stream",
     "text": [
      "Teacher outputs precomputed and saved :)\n"
     ]
    }
   ],
   "source": [
    "# TODO: 5. Train ResNet18 and save the best-performing parameters to 'resnet18_checkpoint.pkl'.\n",
    "# Hint: Use the correct loss function for knowledge distillation.\n",
    "#       Details can be fund in https://docs.pytorch.org/tutorials/beginner/knowledge_distillation_tutorial.html.\n",
    "from torch.utils.data import DataLoader # importing this, which helps implement shuffling element, and handles memory\n",
    "import time\n",
    "from torch.amp import autocast\n",
    "from tqdm import tqdm  # Optional, for progress bar\n",
    "\n",
    "# load all the tensors beforehand\n",
    "tensor_train = tensor_train.to(device)\n",
    "labels_train_index = labels_train_index.to(device)\n",
    "tensor_val = tensor_val.to(device)\n",
    "labels_val_index = labels_val_index.to(device)\n",
    "\n",
    "# Wrap the dataset to also have indexes\n",
    "class IndexedDataset(torch.utils.data.Dataset):\n",
    "    def __init__(self, dataset):\n",
    "        self.dataset = dataset\n",
    "    def __len__(self):\n",
    "        return len(self.dataset)\n",
    "    def __getitem__(self, idx):\n",
    "        x, y = self.dataset[idx]\n",
    "        return x, y, idx\n",
    "\n",
    "# firstly combine tensor images and labels into a dataset, for both train and val\n",
    "train_dataset = torch.utils.data.TensorDataset(tensor_train, labels_train_index) # combining both tensors into a dataset\n",
    "train_dataset_indexed = IndexedDataset(train_dataset)\n",
    "train_loader = DataLoader(train_dataset_indexed, batch_size=BATCH_SIZE, shuffle=True, num_workers=0)\n",
    "\n",
    "teacher_loader = DataLoader(train_dataset, batch_size=BATCH_SIZE, shuffle=False, num_workers=0)\n",
    "\n",
    "# combine for validation set\n",
    "val_dataset = torch.utils.data.TensorDataset(tensor_val, labels_val_index)\n",
    "val_loader = DataLoader(val_dataset, batch_size=BATCH_SIZE, shuffle=True, num_workers=0)\n",
    "\n",
    "train_accs_resnet18, train_losses_resnet18, val_accs_resnet18, val_losses_resnet18 = [], [], [], []\n",
    "\n",
    "loss_fn_hard = nn.CrossEntropyLoss() # used to compare student output prediction with the true class labels\n",
    "loss_fn_soft = nn.KLDivLoss(reduction='batchmean') # measures how well the student's soft probabilities are to the teacher's soft probabilities, aka mimicking\n",
    "\n",
    "soft_teacher = []\n",
    "\n",
    "with torch.no_grad(), torch.amp.autocast(\"cuda\"):\n",
    "    for inputs, _, _ in tqdm(train_loader):\n",
    "        inputs = inputs.to(device)\n",
    "        outputs = resnet34(inputs)\n",
    "        soft_targets = F.softmax(outputs / TEMPERATURE, dim=1)\n",
    "        soft_teacher.append(soft_targets.cpu())\n",
    "\n",
    "# After collecting all batches, concatenate into one tensor\n",
    "soft_teacher = torch.cat(soft_teacher, dim=0)\n",
    "soft_teacher = soft_teacher.to(device)\n",
    "\n",
    "\n",
    "for inputs, labels, indices in train_loader:\n",
    "    indices = indices.long().to('cpu')  # indexing on CPU\n",
    "    soft_teacher_batch = soft_teacher[indices].to(device)\n",
    "\n",
    "torch.save(soft_teacher, '../data_preprocessed/teacher_soft_targets.pt')\n",
    "print('Teacher outputs precomputed and saved :)')\n"
   ]
  },
  {
   "cell_type": "code",
   "execution_count": 185,
   "id": "daef129a",
   "metadata": {},
   "outputs": [
    {
     "name": "stdout",
     "output_type": "stream",
     "text": [
      "indices type: <class 'torch.Tensor'>, dtype: torch.int64, shape: torch.Size([56])\n",
      "indices content: tensor([3650, 1073, 6751, 3288, 2131,  660, 3924,  571, 3599, 6691, 2686, 6898,\n",
      "        6626, 3930, 2485,  742, 3832, 7016, 1388,  570,  491, 7068, 6290, 7613,\n",
      "         486, 2612, 6650, 1218, 4360, 4793, 6822, 7701, 3095, 5134, 1801, 6208,\n",
      "        5490, 1150, 4483, 3997, 6207, 7751, 3149, 2991, 5783,  343, 5557, 7047,\n",
      "         645, 7421, 4329, 5148, 4506,   41, 3847, 2634])\n"
     ]
    }
   ],
   "source": [
    "print(f\"indices type: {type(indices)}, dtype: {getattr(indices, 'dtype', None)}, shape: {getattr(indices, 'shape', None)}\")\n",
    "print(f\"indices content: {indices}\")\n"
   ]
  },
  {
   "cell_type": "code",
   "execution_count": 186,
   "id": "3f7cb414",
   "metadata": {},
   "outputs": [
    {
     "name": "stdout",
     "output_type": "stream",
     "text": [
      "soft_teacher type: <class 'torch.Tensor'>\n",
      "soft_teacher shape: torch.Size([7800, 10])\n"
     ]
    }
   ],
   "source": [
    "print(f\"soft_teacher type: {type(soft_teacher)}\")\n",
    "print(f\"soft_teacher shape: {soft_teacher.shape if isinstance(soft_teacher, torch.Tensor) else 'N/A'}\")\n"
   ]
  },
  {
   "cell_type": "code",
   "execution_count": 145,
   "id": "9b84465a",
   "metadata": {},
   "outputs": [
    {
     "data": {
      "text/plain": [
       "<torch.utils.data.dataloader.DataLoader at 0x1cf64905390>"
      ]
     },
     "execution_count": 145,
     "metadata": {},
     "output_type": "execute_result"
    }
   ],
   "source": [
    "train_loader"
   ]
  },
  {
   "cell_type": "code",
   "execution_count": 141,
   "id": "b2833aa9",
   "metadata": {},
   "outputs": [],
   "source": [
    "soft_teacher = torch.load('../data_preprocessed/teacher_soft_targets.pt')"
   ]
  },
  {
   "cell_type": "code",
   "execution_count": 143,
   "id": "61c5ae2e",
   "metadata": {},
   "outputs": [
    {
     "data": {
      "text/plain": [
       "tensor([[0.0849, 0.1737, 0.0812,  ..., 0.0745, 0.1206, 0.0684],\n",
       "        [0.1381, 0.0499, 0.1019,  ..., 0.1667, 0.0884, 0.1197],\n",
       "        [0.1142, 0.0802, 0.0809,  ..., 0.1007, 0.1248, 0.1176],\n",
       "        ...,\n",
       "        [0.1293, 0.0501, 0.1205,  ..., 0.0687, 0.1223, 0.1358],\n",
       "        [0.0587, 0.0687, 0.0987,  ..., 0.1145, 0.1991, 0.0866],\n",
       "        [0.0931, 0.0529, 0.1589,  ..., 0.0666, 0.1053, 0.1061]])"
      ]
     },
     "execution_count": 143,
     "metadata": {},
     "output_type": "execute_result"
    }
   ],
   "source": [
    "soft_teacher\n"
   ]
  },
  {
   "cell_type": "code",
   "execution_count": 196,
   "id": "3c17f3f9eb662cef",
   "metadata": {
    "collapsed": false,
    "jupyter": {
     "outputs_hidden": false
    }
   },
   "outputs": [
    {
     "name": "stdout",
     "output_type": "stream",
     "text": [
      "\n",
      "EPOCH: 1/5\n"
     ]
    },
    {
     "name": "stderr",
     "output_type": "stream",
     "text": [
      "100%|██████████| 122/122 [13:03<00:00,  6.42s/it]\n"
     ]
    },
    {
     "name": "stdout",
     "output_type": "stream",
     "text": [
      "Epoch 1 > Train Loss: nan, Train Acc: 0.100, Val Loss: nan, Val Acc: 0.100\n",
      "\n",
      "EPOCH: 2/5\n"
     ]
    },
    {
     "name": "stderr",
     "output_type": "stream",
     "text": [
      "100%|██████████| 122/122 [06:44<00:00,  3.31s/it]\n"
     ]
    },
    {
     "name": "stdout",
     "output_type": "stream",
     "text": [
      "Epoch 2 > Train Loss: nan, Train Acc: 0.100, Val Loss: nan, Val Acc: 0.100\n",
      "\n",
      "EPOCH: 3/5\n"
     ]
    },
    {
     "name": "stderr",
     "output_type": "stream",
     "text": [
      "100%|██████████| 122/122 [05:53<00:00,  2.90s/it]\n"
     ]
    },
    {
     "name": "stdout",
     "output_type": "stream",
     "text": [
      "Epoch 3 > Train Loss: nan, Train Acc: 0.100, Val Loss: nan, Val Acc: 0.100\n",
      "\n",
      "EPOCH: 4/5\n"
     ]
    },
    {
     "name": "stderr",
     "output_type": "stream",
     "text": [
      "100%|██████████| 122/122 [06:10<00:00,  3.04s/it]\n"
     ]
    },
    {
     "name": "stdout",
     "output_type": "stream",
     "text": [
      "Epoch 4 > Train Loss: nan, Train Acc: 0.100, Val Loss: nan, Val Acc: 0.100\n",
      "\n",
      "EPOCH: 5/5\n"
     ]
    },
    {
     "name": "stderr",
     "output_type": "stream",
     "text": [
      "100%|██████████| 122/122 [08:52<00:00,  4.37s/it]\n"
     ]
    },
    {
     "name": "stdout",
     "output_type": "stream",
     "text": [
      "Epoch 5 > Train Loss: nan, Train Acc: 0.100, Val Loss: nan, Val Acc: 0.100\n"
     ]
    }
   ],
   "source": [
    "start = time.time()\n",
    "\n",
    "resnet18.train()\n",
    "\n",
    "for epoch in range(MAX_EPOCH):\n",
    "    print(f'\\nEPOCH: {epoch + 1}/{MAX_EPOCH}') # stating which epoch we're at, out of the number of epochs we're training the model\n",
    "\n",
    "    # Create variables to hold accuracy and loss data during training\n",
    "    train_correct = 0 # how many predictions were correct\n",
    "    train_total = 0 # how many samples the model has seen\n",
    "    train_loss = 0.0 # accumulation of total loss from every batch\n",
    "\n",
    "    for inputs, labels, indices in tqdm(train_loader):\n",
    "        inputs, labels = inputs.to(device), labels.to(device)\n",
    "\n",
    "        indices = indices.long().to('cpu')\n",
    "        soft_teacher_batch = soft_teacher[indices].to(device)\n",
    "\n",
    "        with autocast('cuda'):\n",
    "            student_outputs = resnet18(inputs)\n",
    "\n",
    "        soft_student = torch.log_softmax(student_outputs / TEMPERATURE, dim=1) # log_softmax > converting logits into log-probabilities, aka our model outputs. As KLDivLoss expects it from our student model, over teacher model\n",
    "                                                                           # student_outputs/TEMPERATURE > dividing outputs with temp softens probability \n",
    "        \n",
    "        loss_soft = loss_fn_soft(soft_student, soft_teacher_batch) * (TEMPERATURE ** 2) # bringing softened student logits, and teacher softened logits, then comparing the two with loss_fn_soft, aka KLDivLoss\n",
    "                                                                                  # temp^2 > is done to return the logits back to original scale. Even though its '/temp', its divided again due to both becoming derivative\n",
    "        loss_hard = loss_fn_hard(student_outputs, labels)\n",
    "        loss = LOSS_RATIO * loss_soft + (1 - LOSS_RATIO) * loss_hard\n",
    "\n",
    "        optimizer.zero_grad()\n",
    "        loss.backward() # performs backpropagation, by using the loss values, and computing how much the parameter should change to fix the mistake, aka it's gradient\n",
    "        torch.nn.utils.clip_grad_norm_(resnet18.parameters(), max_norm=1.0)  # Prevent exploding gradients\n",
    "        optimizer.step() # updating the model weights for the specific batch it's learnt from\n",
    "\n",
    "        train_loss += loss.item() * inputs.size(0) # computing total loss per batch. Where (loss value * batch size). Helps sum total loss for every batch, no matter the batch size\n",
    "        _, predicted = torch.max(student_outputs,1) # we pull the output (prediction probabilities), and have pytorch pull out the max/highest probability\n",
    "                                            # '_' > the highest prediction value, 'predicted' > index location of prediction value. The value of prediction is not important, but rather the indexing, as that's the class label\n",
    "        train_correct += (predicted == labels).sum().item() # collect all the number of times, prediction is correct. '.item()' > converts tensor element into an integer, so mathematical operations wouldn't cause errors\n",
    "        train_total += labels.size(0) # counting the total number of training data we have. labels.size(0) gives us the batch size, and we add it on top every round\n",
    "\n",
    "    scheduler.step() # the learning rate will update based on scheduler. It's outside the loop as it only operates by epoch, not batch like optimizer\n",
    "\n",
    "    train_loss = train_loss/train_total # get average loss, by dividing the total loss with the number of training data\n",
    "    train_acc = train_correct/train_total # dividing the correct predictions, over total number of predictions, give us a value of how accurate the modelis\n",
    "    train_losses_resnet18.append(train_loss) # append our results for one epoch\n",
    "    train_accs_resnet18.append(train_acc)\n",
    "\n",
    "    # Validation\n",
    "    resnet18.eval() # change to evaluation mode to prevent updating of gradients\n",
    "    val_correct = 0\n",
    "    val_total = 0\n",
    "    val_loss = 0.0\n",
    "\n",
    "    with torch.no_grad(): # gradient tracking is disabled, since we're in validation state. No need to train the model\n",
    "        for inputs, labels in val_loader:\n",
    "            inputs, labels = inputs.to(device), labels.to(device)\n",
    "            student_outputs = resnet18(inputs)\n",
    "            loss = loss_fn_hard(student_outputs, labels)\n",
    "\n",
    "            val_loss += loss.item() * inputs.size(0)\n",
    "            _, predicted = torch.max(student_outputs,1)\n",
    "            val_correct += (predicted == labels).sum().item()\n",
    "            val_total += labels.size(0)\n",
    "\n",
    "        val_loss = val_loss/val_total\n",
    "        val_acc = val_correct/val_total\n",
    "        val_losses_resnet18.append(val_loss)\n",
    "        val_accs_resnet18.append(val_acc)\n",
    "\n",
    "        print(f'Epoch {epoch+1} > Train Loss: {train_loss:.3f}, Train Acc: {train_acc:.3f}, Val Loss: {val_loss:.3f}, Val Acc: {val_acc:.3f}')"
   ]
  },
  {
   "cell_type": "markdown",
   "id": "7983eb82",
   "metadata": {},
   "source": [
    "## Debugging KD model:\n",
    "\n",
    "Currently I have the issue where the resnet18 student model is not working the way I wanted. Not only were displays of accuracy and loss were unchanged, but for some reason it kept predicting `sunglasses` over and over again. Doesn't seem like an error in value predicting, since it's specifically chosen index `8` over something like `0`.\n",
    "\n",
    "Another thing that's been a big struggling, is figuring out why the teacher pass and backpropagation takes an exorbitant amount of time, that it feels absurd to even do 1 epoch of training through KD."
   ]
  },
  {
   "cell_type": "code",
   "execution_count": 197,
   "id": "b714e3b5",
   "metadata": {},
   "outputs": [
    {
     "data": {
      "text/plain": [
       "tensor([[-3.1311e+00, -2.9836e+00,  3.0005e-01,  1.9641e+00, -2.8917e-01,\n",
       "         -6.3114e-01, -6.5809e-01,  2.5200e+00,  3.1152e+00, -4.2060e-01],\n",
       "        [-2.2463e+00, -4.1348e+00,  4.6480e-01,  1.7709e+00, -8.5338e-01,\n",
       "         -9.7375e-01, -1.5581e+00,  2.1753e+00,  4.2128e+00,  8.9416e-01],\n",
       "        [-5.2547e-01, -4.2132e+00,  1.0692e+00, -1.3075e+00,  1.9956e+00,\n",
       "          3.4052e-01, -2.4775e+00,  4.2743e-01,  2.5332e+00,  2.0372e+00],\n",
       "        [-7.7499e-01, -1.9525e+00,  8.6060e-01,  5.2349e-01,  4.9581e-01,\n",
       "         -6.4945e-01, -1.2818e+00,  1.7167e+00,  5.3201e-01,  3.2251e-01],\n",
       "        [-2.2569e+00, -3.2042e+00,  1.2383e-01,  1.5722e+00, -8.2378e-01,\n",
       "         -1.4310e+00, -8.2346e-01,  2.7829e+00,  3.7487e+00,  9.0035e-02],\n",
       "        [ 6.2490e-01,  5.9790e+00, -1.6836e+00,  2.2090e+00, -2.5608e+00,\n",
       "         -2.9473e+00,  2.7173e+00, -2.7038e+00,  5.4783e-01, -2.1189e+00],\n",
       "        [-1.6112e+00,  1.0583e-01,  1.0166e-01,  3.4740e+00, -1.0924e+00,\n",
       "         -1.0644e+00, -2.2110e-01, -4.4542e-01,  2.0679e+00, -1.4038e+00],\n",
       "        [-2.0998e+00, -3.8716e+00,  6.8628e-01,  2.5805e-01,  1.0380e+00,\n",
       "         -1.0647e+00, -1.8379e+00,  3.0389e+00,  2.9349e+00,  7.4795e-01],\n",
       "        [ 9.8420e-01,  1.9694e+00, -6.5496e-01,  3.5676e+00, -1.2778e+00,\n",
       "         -3.3474e+00, -1.0325e+00, -7.3123e-01,  1.4149e+00, -8.6428e-01],\n",
       "        [-7.2767e-01,  1.0228e+00,  7.9819e-01, -3.0294e-01, -6.1351e-01,\n",
       "          2.9381e-01,  9.3631e-01, -2.3205e-01, -7.7522e-02, -1.2691e+00],\n",
       "        [ 1.1975e+00,  1.6414e+00, -5.5020e-01, -1.2308e+00,  4.0708e-01,\n",
       "         -9.4568e-01,  7.5054e-01, -7.3007e-01, -7.1361e-01,  2.3487e-01],\n",
       "        [-1.1833e+00,  3.5354e+00, -1.2862e+00, -2.2004e+00, -1.2478e+00,\n",
       "         -6.4639e-01,  5.6287e+00, -4.8921e-01, -3.3997e-01, -1.7603e+00],\n",
       "        [-3.0924e+00, -2.4962e+00,  1.8580e-01,  1.6548e+00, -1.4339e+00,\n",
       "         -7.0202e-01,  1.0886e-01,  2.5733e+00,  3.6586e+00, -5.8018e-01],\n",
       "        [ 1.5313e+00, -2.8793e+00,  1.0342e+00, -2.5783e+00,  3.1278e+00,\n",
       "         -1.3333e-01, -1.7912e+00,  1.9301e-01, -2.7989e-01,  1.6417e+00],\n",
       "        [ 1.6501e-01, -2.1975e+00,  9.1678e-01, -2.1718e+00,  2.3759e+00,\n",
       "          3.1029e-02, -1.1511e+00, -9.8932e-01,  1.6019e+00,  1.4463e+00],\n",
       "        [ 1.1394e+00,  4.7596e+00, -1.3046e+00,  2.0185e+00, -2.8909e+00,\n",
       "         -3.0866e+00,  1.2183e+00, -3.3784e-01, -4.5897e-03, -1.6270e+00],\n",
       "        [ 5.9823e-02,  4.5687e+00, -1.1715e+00,  1.7402e+00, -1.9451e+00,\n",
       "         -2.3106e+00,  1.9280e+00, -1.5336e+00,  5.4209e-01, -1.8104e+00],\n",
       "        [-2.0712e-01, -2.2927e+00,  1.6036e-01, -1.6709e+00,  1.6296e+00,\n",
       "         -6.6209e-01, -6.6917e-01,  1.0188e+00,  1.5639e+00,  1.1320e+00],\n",
       "        [ 2.5276e+00, -2.6510e+00,  3.2955e-01, -1.9787e+00,  1.9456e+00,\n",
       "         -1.5458e+00, -1.7220e+00,  9.9032e-01,  4.2452e-01,  1.5034e+00],\n",
       "        [-1.3711e+00,  8.2306e-01,  1.3886e+00, -2.6050e+00,  5.5178e-01,\n",
       "          2.1459e+00,  2.9233e+00, -2.1687e+00, -2.7090e-01, -1.4389e+00],\n",
       "        [-4.9349e-01, -3.6811e+00,  2.0233e+00, -2.0819e+00,  3.3840e+00,\n",
       "          9.2960e-02, -2.0354e+00,  3.1885e-01,  1.3124e+00,  1.1290e+00],\n",
       "        [-1.8108e+00,  2.7102e+00, -8.1013e-02,  7.9584e+00, -3.5421e+00,\n",
       "         -2.0449e+00, -4.2911e-01, -7.5348e-01,  1.3493e+00, -3.4785e+00],\n",
       "        [-8.3213e-01,  3.6397e-01, -6.8145e-01, -1.2446e+00,  4.9037e-01,\n",
       "         -1.1034e+00,  2.0291e+00,  5.1227e-02,  1.2425e+00, -2.5307e-01],\n",
       "        [-7.8210e-01,  3.7820e+00, -1.2434e+00, -1.7708e+00, -1.4048e+00,\n",
       "         -1.0802e+00,  6.0422e+00, -1.5559e+00,  8.5162e-02, -2.0142e+00],\n",
       "        [-3.0201e+00, -7.4792e-01,  9.6019e-01, -2.2242e+00,  4.6411e-02,\n",
       "          5.9556e+00,  3.0018e+00, -1.0292e+00, -1.3289e+00, -1.7650e+00],\n",
       "        [-1.5962e+00, -4.0568e+00,  3.1947e-01,  9.2147e-01, -3.5834e-01,\n",
       "         -1.6941e+00, -1.5145e+00,  3.4917e+00,  3.8658e+00,  3.4631e-01],\n",
       "        [ 1.6082e+00, -3.9347e+00,  1.4296e+00, -3.9985e+00,  4.3561e+00,\n",
       "          1.5967e-01, -2.7026e+00, -1.0726e+00,  1.8535e+00,  2.3178e+00],\n",
       "        [-3.0569e+00, -2.0867e+00,  1.5396e+00, -2.3566e+00,  1.2330e+00,\n",
       "          5.7009e+00,  1.4345e+00, -9.0935e-01, -1.7500e-01, -1.5042e+00],\n",
       "        [-2.2428e+00, -2.2301e+00,  3.0474e+00, -1.6012e+00,  8.2644e-01,\n",
       "          4.5274e+00,  4.3638e-01, -8.0725e-01, -8.4630e-01, -1.2676e+00],\n",
       "        [-1.8269e+00, -4.0257e+00,  1.1183e+00,  2.0340e-01,  7.5178e-01,\n",
       "         -7.3830e-01, -1.5833e+00,  2.6252e+00,  2.5862e+00,  6.5843e-01],\n",
       "        [-3.3021e+00, -1.8427e+00,  2.0512e+00, -4.1995e-01,  6.2563e-02,\n",
       "          4.9269e+00,  9.8486e-01, -1.3020e-01, -5.4167e-01, -1.9920e+00],\n",
       "        [ 1.5129e+00, -2.7613e+00,  6.0702e-01, -1.6431e+00,  1.7325e+00,\n",
       "         -4.5299e-01, -1.9615e+00, -2.1888e-01,  1.0346e+00,  2.1466e+00],\n",
       "        [-1.2782e+00,  3.3751e+00, -1.4215e+00, -3.8762e+00, -8.5925e-01,\n",
       "          1.9023e-01,  7.5768e+00, -1.2410e+00, -7.6159e-01, -1.6401e+00],\n",
       "        [ 1.6273e+00, -2.5833e+00,  4.3852e-01, -1.7453e+00,  1.9715e+00,\n",
       "         -1.2574e+00, -1.5016e+00,  4.0913e-01,  1.1108e+00,  1.4936e+00],\n",
       "        [ 1.0438e+00, -2.3396e+00,  4.9103e-01, -2.5225e-01,  8.3423e-01,\n",
       "         -8.5300e-01, -1.9782e+00,  1.0318e+00,  3.4001e-01,  1.4794e+00],\n",
       "        [ 5.3424e-01,  3.1728e+00, -8.6047e-01,  1.4682e+00, -1.7523e+00,\n",
       "         -2.3007e+00,  6.0512e-01, -3.9367e-01,  3.3942e-01, -8.7344e-01],\n",
       "        [-1.3386e+00, -2.2007e+00,  1.3293e+00, -3.2783e+00,  2.1171e+00,\n",
       "          3.8003e+00,  3.1851e-01, -8.7626e-01,  2.4189e-01, -2.0962e-01],\n",
       "        [ 4.8698e-01, -2.7422e+00,  5.9044e-01, -1.4370e+00,  1.3112e+00,\n",
       "         -6.7573e-01, -1.3663e+00,  1.9798e+00,  3.9163e-01,  1.2237e+00],\n",
       "        [-4.7740e-01,  2.4578e+00,  2.4386e-01,  4.7602e-01, -8.4215e-01,\n",
       "         -9.5433e-01,  1.0481e+00, -1.2691e+00,  5.3213e-01, -1.2750e+00],\n",
       "        [-2.5016e+00, -3.3224e+00,  1.9326e-01,  2.1378e+00, -1.3519e+00,\n",
       "         -1.1730e+00, -8.7527e-01,  3.5581e+00,  3.4432e+00, -4.8271e-01]],\n",
       "       device='cuda:0')"
      ]
     },
     "execution_count": 197,
     "metadata": {},
     "output_type": "execute_result"
    }
   ],
   "source": [
    "resnet34(inputs)"
   ]
  },
  {
   "cell_type": "code",
   "execution_count": 199,
   "id": "acec85d5",
   "metadata": {},
   "outputs": [
    {
     "name": "stdout",
     "output_type": "stream",
     "text": [
      "tensor([2, 4, 4, 4, 8, 7, 8, 7, 4, 4, 8, 8, 8, 3, 4, 4, 4, 9, 7, 0, 7, 8, 4, 2,\n",
      "        8, 4, 0, 8, 4, 6, 8, 8, 4, 7, 8, 8, 4, 3, 8, 4, 6, 8, 8, 4, 4, 9, 8, 8,\n",
      "        4, 8, 8, 8, 4, 8, 7, 9], device='cuda:0')\n"
     ]
    }
   ],
   "source": [
    "print(torch.argmax(teacher_outputs, dim=1))  # Are all the labels the same?\n"
   ]
  },
  {
   "cell_type": "code",
   "execution_count": 200,
   "id": "260396b6b143a422",
   "metadata": {
    "ExecuteTime": {
     "end_time": "2025-05-10T03:04:33.157515Z",
     "start_time": "2025-05-10T03:04:32.960493Z"
    },
    "collapsed": false,
    "jupyter": {
     "outputs_hidden": false
    }
   },
   "outputs": [
    {
     "data": {
      "image/png": "[encoded data removed]",
      "text/plain": [
       "<Figure size 1200x500 with 2 Axes>"
      ]
     },
     "metadata": {},
     "output_type": "display_data"
    }
   ],
   "source": [
    "# TODO: 6. Plot the loss and accuracy curves.\n",
    "\n",
    "# Plotting Loss\n",
    "plt.figure(figsize=(12, 5))\n",
    "\n",
    "plt.subplot(1, 2, 1)\n",
    "plt.plot(train_losses_resnet18, label='Train Loss')\n",
    "plt.plot(val_losses_resnet18, label='Val Loss')\n",
    "plt.title('Loss over Epochs')\n",
    "plt.xlabel('Epoch')\n",
    "plt.ylabel('Loss')\n",
    "plt.legend()\n",
    "plt.grid(True)\n",
    "\n",
    "# Plotting Accuracy\n",
    "plt.subplot(1, 2, 2)\n",
    "plt.plot(train_accs_resnet18, label='Train Accuracy')\n",
    "plt.plot(val_accs_resnet18, label='Val Accuracy')\n",
    "plt.title('Accuracy over Epochs')\n",
    "plt.xlabel('Epoch')\n",
    "plt.ylabel('Accuracy')\n",
    "plt.legend()\n",
    "plt.grid(True)\n",
    "\n",
    "plt.tight_layout()\n",
    "plt.show()\n"
   ]
  },
  {
   "cell_type": "code",
   "execution_count": 201,
   "id": "b31318d2",
   "metadata": {},
   "outputs": [],
   "source": [
    "torch.save(resnet18.state_dict(), '../models/resnet18_checkpoint.pkl')"
   ]
  },
  {
   "cell_type": "markdown",
   "id": "730790a6c4e96912",
   "metadata": {
    "collapsed": false,
    "jupyter": {
     "outputs_hidden": false
    }
   },
   "source": [
    "# Step 4 Predict labels in the testing set\n",
    "1. Load the saved ResNet18 and move it to the selected device.\n",
    "2. Do prediction using the images in the testing set.\n",
    "3. Write the results into the CSV file for submission."
   ]
  },
  {
   "cell_type": "code",
   "execution_count": 202,
   "id": "d2a8f6f703b42a0a",
   "metadata": {
    "collapsed": false,
    "jupyter": {
     "outputs_hidden": false
    }
   },
   "outputs": [
    {
     "data": {
      "text/plain": [
       "ResNet(\n",
       "  (conv1): Conv2d(3, 64, kernel_size=(7, 7), stride=(2, 2), padding=(3, 3), bias=False)\n",
       "  (bn1): BatchNorm2d(64, eps=1e-05, momentum=0.1, affine=True, track_running_stats=True)\n",
       "  (relu): ReLU(inplace=True)\n",
       "  (maxpool): MaxPool2d(kernel_size=3, stride=2, padding=1, dilation=1, ceil_mode=False)\n",
       "  (layer1): Sequential(\n",
       "    (0): BasicBlock(\n",
       "      (conv1): Conv2d(64, 64, kernel_size=(3, 3), stride=(1, 1), padding=(1, 1), bias=False)\n",
       "      (bn1): BatchNorm2d(64, eps=1e-05, momentum=0.1, affine=True, track_running_stats=True)\n",
       "      (relu): ReLU(inplace=True)\n",
       "      (conv2): Conv2d(64, 64, kernel_size=(3, 3), stride=(1, 1), padding=(1, 1), bias=False)\n",
       "      (bn2): BatchNorm2d(64, eps=1e-05, momentum=0.1, affine=True, track_running_stats=True)\n",
       "    )\n",
       "    (1): BasicBlock(\n",
       "      (conv1): Conv2d(64, 64, kernel_size=(3, 3), stride=(1, 1), padding=(1, 1), bias=False)\n",
       "      (bn1): BatchNorm2d(64, eps=1e-05, momentum=0.1, affine=True, track_running_stats=True)\n",
       "      (relu): ReLU(inplace=True)\n",
       "      (conv2): Conv2d(64, 64, kernel_size=(3, 3), stride=(1, 1), padding=(1, 1), bias=False)\n",
       "      (bn2): BatchNorm2d(64, eps=1e-05, momentum=0.1, affine=True, track_running_stats=True)\n",
       "    )\n",
       "  )\n",
       "  (layer2): Sequential(\n",
       "    (0): BasicBlock(\n",
       "      (conv1): Conv2d(64, 128, kernel_size=(3, 3), stride=(2, 2), padding=(1, 1), bias=False)\n",
       "      (bn1): BatchNorm2d(128, eps=1e-05, momentum=0.1, affine=True, track_running_stats=True)\n",
       "      (relu): ReLU(inplace=True)\n",
       "      (conv2): Conv2d(128, 128, kernel_size=(3, 3), stride=(1, 1), padding=(1, 1), bias=False)\n",
       "      (bn2): BatchNorm2d(128, eps=1e-05, momentum=0.1, affine=True, track_running_stats=True)\n",
       "      (downsample): Sequential(\n",
       "        (0): Conv2d(64, 128, kernel_size=(1, 1), stride=(2, 2), bias=False)\n",
       "        (1): BatchNorm2d(128, eps=1e-05, momentum=0.1, affine=True, track_running_stats=True)\n",
       "      )\n",
       "    )\n",
       "    (1): BasicBlock(\n",
       "      (conv1): Conv2d(128, 128, kernel_size=(3, 3), stride=(1, 1), padding=(1, 1), bias=False)\n",
       "      (bn1): BatchNorm2d(128, eps=1e-05, momentum=0.1, affine=True, track_running_stats=True)\n",
       "      (relu): ReLU(inplace=True)\n",
       "      (conv2): Conv2d(128, 128, kernel_size=(3, 3), stride=(1, 1), padding=(1, 1), bias=False)\n",
       "      (bn2): BatchNorm2d(128, eps=1e-05, momentum=0.1, affine=True, track_running_stats=True)\n",
       "    )\n",
       "  )\n",
       "  (layer3): Sequential(\n",
       "    (0): BasicBlock(\n",
       "      (conv1): Conv2d(128, 256, kernel_size=(3, 3), stride=(2, 2), padding=(1, 1), bias=False)\n",
       "      (bn1): BatchNorm2d(256, eps=1e-05, momentum=0.1, affine=True, track_running_stats=True)\n",
       "      (relu): ReLU(inplace=True)\n",
       "      (conv2): Conv2d(256, 256, kernel_size=(3, 3), stride=(1, 1), padding=(1, 1), bias=False)\n",
       "      (bn2): BatchNorm2d(256, eps=1e-05, momentum=0.1, affine=True, track_running_stats=True)\n",
       "      (downsample): Sequential(\n",
       "        (0): Conv2d(128, 256, kernel_size=(1, 1), stride=(2, 2), bias=False)\n",
       "        (1): BatchNorm2d(256, eps=1e-05, momentum=0.1, affine=True, track_running_stats=True)\n",
       "      )\n",
       "    )\n",
       "    (1): BasicBlock(\n",
       "      (conv1): Conv2d(256, 256, kernel_size=(3, 3), stride=(1, 1), padding=(1, 1), bias=False)\n",
       "      (bn1): BatchNorm2d(256, eps=1e-05, momentum=0.1, affine=True, track_running_stats=True)\n",
       "      (relu): ReLU(inplace=True)\n",
       "      (conv2): Conv2d(256, 256, kernel_size=(3, 3), stride=(1, 1), padding=(1, 1), bias=False)\n",
       "      (bn2): BatchNorm2d(256, eps=1e-05, momentum=0.1, affine=True, track_running_stats=True)\n",
       "    )\n",
       "  )\n",
       "  (layer4): Sequential(\n",
       "    (0): BasicBlock(\n",
       "      (conv1): Conv2d(256, 512, kernel_size=(3, 3), stride=(2, 2), padding=(1, 1), bias=False)\n",
       "      (bn1): BatchNorm2d(512, eps=1e-05, momentum=0.1, affine=True, track_running_stats=True)\n",
       "      (relu): ReLU(inplace=True)\n",
       "      (conv2): Conv2d(512, 512, kernel_size=(3, 3), stride=(1, 1), padding=(1, 1), bias=False)\n",
       "      (bn2): BatchNorm2d(512, eps=1e-05, momentum=0.1, affine=True, track_running_stats=True)\n",
       "      (downsample): Sequential(\n",
       "        (0): Conv2d(256, 512, kernel_size=(1, 1), stride=(2, 2), bias=False)\n",
       "        (1): BatchNorm2d(512, eps=1e-05, momentum=0.1, affine=True, track_running_stats=True)\n",
       "      )\n",
       "    )\n",
       "    (1): BasicBlock(\n",
       "      (conv1): Conv2d(512, 512, kernel_size=(3, 3), stride=(1, 1), padding=(1, 1), bias=False)\n",
       "      (bn1): BatchNorm2d(512, eps=1e-05, momentum=0.1, affine=True, track_running_stats=True)\n",
       "      (relu): ReLU(inplace=True)\n",
       "      (conv2): Conv2d(512, 512, kernel_size=(3, 3), stride=(1, 1), padding=(1, 1), bias=False)\n",
       "      (bn2): BatchNorm2d(512, eps=1e-05, momentum=0.1, affine=True, track_running_stats=True)\n",
       "    )\n",
       "  )\n",
       "  (avgpool): AdaptiveAvgPool2d(output_size=(1, 1))\n",
       "  (fc): Linear(in_features=512, out_features=10, bias=True)\n",
       ")"
      ]
     },
     "execution_count": 202,
     "metadata": {},
     "output_type": "execute_result"
    }
   ],
   "source": [
    "# TODO: 1. Load the saved ResNet18 and move it to the selected device.\n",
    "# Hint: Enable the evaluation mode to prevent updating the parameters.\n",
    "\n",
    "resnet18 = models.resnet18(pretrained=False)\n",
    "resnet18.fc = nn.Linear(512, 10)  # adjust output layer\n",
    "resnet18.load_state_dict(torch.load('../models/resnet18_checkpoint.pkl', map_location=device))\n",
    "resnet18 = resnet18.to(device)\n",
    "resnet18.eval()\n",
    "\n"
   ]
  },
  {
   "cell_type": "code",
   "execution_count": 203,
   "id": "44ee908450e937e7",
   "metadata": {
    "ExecuteTime": {
     "end_time": "2025-05-10T03:43:20.873625Z",
     "start_time": "2025-05-10T03:43:18.999813Z"
    },
    "collapsed": false,
    "jupyter": {
     "outputs_hidden": false
    }
   },
   "outputs": [],
   "source": [
    "# TODO: 2. Do prediction using the images in the testing set.\n",
    "predictions = []\n",
    "\n",
    "with torch.no_grad():\n",
    "    for inputs in tensor_test:\n",
    "        inputs = inputs.unsqueeze(0).to(device)\n",
    "        outputs = resnet18(inputs)\n",
    "        _, predicted = torch.max(outputs, 1)\n",
    "        predictions.extend(predicted.cpu().numpy())\n"
   ]
  },
  {
   "cell_type": "code",
   "execution_count": 204,
   "id": "bee5ddbde0d132cf",
   "metadata": {
    "collapsed": false,
    "jupyter": {
     "outputs_hidden": false
    }
   },
   "outputs": [],
   "source": [
    "# TODO: 3. Write the results into the CSV file for submission.\n",
    "# Hint: The CSV file should be in the format of 'file_name' and 'label'.\n",
    "#       The submission.csv should look like:\n",
    "#           file_name,label\n",
    "#           0.jpg,sunglasses\n",
    "#           ...\n",
    "\n",
    "index_to_label = {v: k for k, v in label_to_index.items()}\n",
    "\n",
    "import csv\n",
    "\n",
    "# If predictions is a torch tensor, convert it to list\n",
    "if isinstance(predictions, torch.Tensor):\n",
    "    predictions = predictions.tolist()\n",
    "\n",
    "# Create the submission file\n",
    "with open('submission.csv', mode='w', newline='') as file:\n",
    "    writer = csv.writer(file)\n",
    "    writer.writerow(['file_name', 'label'])  # Write the header\n",
    "\n",
    "    for i, pred_idx in enumerate(predictions):\n",
    "        filename = f\"{i}.jpg\"\n",
    "        label = index_to_label[pred_idx]\n",
    "        writer.writerow([filename, label])"
   ]
  },
  {
   "cell_type": "code",
   "execution_count": null,
   "id": "6e5992f4",
   "metadata": {},
   "outputs": [],
   "source": []
  }
 ],
 "metadata": {
  "kernelspec": {
   "display_name": "base",
   "language": "python",
   "name": "python3"
  },
  "language_info": {
   "codemirror_mode": {
    "name": "ipython",
    "version": 3
   },
   "file_extension": ".py",
   "mimetype": "text/x-python",
   "name": "python",
   "nbconvert_exporter": "python",
   "pygments_lexer": "ipython3",
   "version": "3.11.7"
  }
 },
 "nbformat": 4,
 "nbformat_minor": 5
}
